{
 "cells": [
  {
   "cell_type": "markdown",
   "metadata": {},
   "source": [
    "### 安装tushare\n",
    "- 参考官网：https://tushare.pro/document/1\n",
    "- pip install tushare，需要的依赖全部自动安装"
   ]
  },
  {
   "cell_type": "markdown",
   "metadata": {},
   "source": [
    "## 注册\n",
    "链接：https://tushare.pro/register?reg=353020"
   ]
  },
  {
   "cell_type": "code",
   "execution_count": 34,
   "metadata": {},
   "outputs": [
    {
     "name": "stdout",
     "output_type": "stream",
     "text": [
      "1.2.51\n"
     ]
    }
   ],
   "source": [
    "import warnings\n",
    "warnings.filterwarnings(\"ignore\")\n",
    "\n",
    "import tushare as ts\n",
    "print(tushare.__version__)"
   ]
  },
  {
   "cell_type": "markdown",
   "metadata": {},
   "source": [
    "### 这个是token"
   ]
  },
  {
   "cell_type": "code",
   "execution_count": 35,
   "metadata": {
    "collapsed": true
   },
   "outputs": [],
   "source": [
    "token = 'f51bc1209389d9ba0d671689478db838d0e903f3c45e3734438612e9'"
   ]
  },
  {
   "cell_type": "markdown",
   "metadata": {},
   "source": [
    "设置好token"
   ]
  },
  {
   "cell_type": "code",
   "execution_count": 36,
   "metadata": {
    "collapsed": true
   },
   "outputs": [],
   "source": [
    "ts.set_token(token)"
   ]
  },
  {
   "cell_type": "code",
   "execution_count": 37,
   "metadata": {
    "collapsed": true
   },
   "outputs": [],
   "source": [
    "pro = ts.pro_api()"
   ]
  },
  {
   "cell_type": "markdown",
   "metadata": {},
   "source": [
    "### 获取指数"
   ]
  },
  {
   "cell_type": "code",
   "execution_count": 23,
   "metadata": {},
   "outputs": [
    {
     "data": {
      "text/html": [
       "<div>\n",
       "<style scoped>\n",
       "    .dataframe tbody tr th:only-of-type {\n",
       "        vertical-align: middle;\n",
       "    }\n",
       "\n",
       "    .dataframe tbody tr th {\n",
       "        vertical-align: top;\n",
       "    }\n",
       "\n",
       "    .dataframe thead th {\n",
       "        text-align: right;\n",
       "    }\n",
       "</style>\n",
       "<table border=\"1\" class=\"dataframe\">\n",
       "  <thead>\n",
       "    <tr style=\"text-align: right;\">\n",
       "      <th></th>\n",
       "      <th>ts_code</th>\n",
       "      <th>name</th>\n",
       "      <th>market</th>\n",
       "      <th>publisher</th>\n",
       "      <th>category</th>\n",
       "      <th>base_date</th>\n",
       "      <th>base_point</th>\n",
       "      <th>list_date</th>\n",
       "    </tr>\n",
       "  </thead>\n",
       "  <tbody>\n",
       "    <tr>\n",
       "      <th>0</th>\n",
       "      <td>000001.SH</td>\n",
       "      <td>上证综指</td>\n",
       "      <td>SSE</td>\n",
       "      <td>中证公司</td>\n",
       "      <td>综合指数</td>\n",
       "      <td>19901219</td>\n",
       "      <td>100.00</td>\n",
       "      <td>19910715</td>\n",
       "    </tr>\n",
       "    <tr>\n",
       "      <th>1</th>\n",
       "      <td>000002.SH</td>\n",
       "      <td>上证A指</td>\n",
       "      <td>SSE</td>\n",
       "      <td>中证公司</td>\n",
       "      <td>综合指数</td>\n",
       "      <td>19901219</td>\n",
       "      <td>100.00</td>\n",
       "      <td>19920221</td>\n",
       "    </tr>\n",
       "    <tr>\n",
       "      <th>2</th>\n",
       "      <td>000003.SH</td>\n",
       "      <td>上证B指</td>\n",
       "      <td>SSE</td>\n",
       "      <td>中证公司</td>\n",
       "      <td>综合指数</td>\n",
       "      <td>19920221</td>\n",
       "      <td>100.00</td>\n",
       "      <td>19920221</td>\n",
       "    </tr>\n",
       "    <tr>\n",
       "      <th>3</th>\n",
       "      <td>000004.SH</td>\n",
       "      <td>上证工业类指数</td>\n",
       "      <td>SSE</td>\n",
       "      <td>中证公司</td>\n",
       "      <td>综合指数</td>\n",
       "      <td>19930430</td>\n",
       "      <td>1358.78</td>\n",
       "      <td>19930503</td>\n",
       "    </tr>\n",
       "    <tr>\n",
       "      <th>4</th>\n",
       "      <td>000005.SH</td>\n",
       "      <td>上证商业类指数</td>\n",
       "      <td>SSE</td>\n",
       "      <td>中证公司</td>\n",
       "      <td>综合指数</td>\n",
       "      <td>19930430</td>\n",
       "      <td>1358.78</td>\n",
       "      <td>19930503</td>\n",
       "    </tr>\n",
       "  </tbody>\n",
       "</table>\n",
       "</div>"
      ],
      "text/plain": [
       "     ts_code     name market publisher category base_date  base_point  \\\n",
       "0  000001.SH     上证综指    SSE      中证公司     综合指数  19901219      100.00   \n",
       "1  000002.SH     上证A指    SSE      中证公司     综合指数  19901219      100.00   \n",
       "2  000003.SH     上证B指    SSE      中证公司     综合指数  19920221      100.00   \n",
       "3  000004.SH  上证工业类指数    SSE      中证公司     综合指数  19930430     1358.78   \n",
       "4  000005.SH  上证商业类指数    SSE      中证公司     综合指数  19930430     1358.78   \n",
       "\n",
       "  list_date  \n",
       "0  19910715  \n",
       "1  19920221  \n",
       "2  19920221  \n",
       "3  19930503  \n",
       "4  19930503  "
      ]
     },
     "execution_count": 23,
     "metadata": {},
     "output_type": "execute_result"
    }
   ],
   "source": [
    "pro.index_basic(market = 'SSE').head()"
   ]
  },
  {
   "cell_type": "markdown",
   "metadata": {},
   "source": [
    "指数信息"
   ]
  },
  {
   "cell_type": "code",
   "execution_count": 24,
   "metadata": {},
   "outputs": [
    {
     "data": {
      "text/html": [
       "<div>\n",
       "<style scoped>\n",
       "    .dataframe tbody tr th:only-of-type {\n",
       "        vertical-align: middle;\n",
       "    }\n",
       "\n",
       "    .dataframe tbody tr th {\n",
       "        vertical-align: top;\n",
       "    }\n",
       "\n",
       "    .dataframe thead th {\n",
       "        text-align: right;\n",
       "    }\n",
       "</style>\n",
       "<table border=\"1\" class=\"dataframe\">\n",
       "  <thead>\n",
       "    <tr style=\"text-align: right;\">\n",
       "      <th></th>\n",
       "      <th>ts_code</th>\n",
       "      <th>trade_date</th>\n",
       "      <th>close</th>\n",
       "      <th>open</th>\n",
       "      <th>high</th>\n",
       "      <th>low</th>\n",
       "      <th>pre_close</th>\n",
       "      <th>change</th>\n",
       "      <th>pct_chg</th>\n",
       "      <th>vol</th>\n",
       "      <th>amount</th>\n",
       "    </tr>\n",
       "  </thead>\n",
       "  <tbody>\n",
       "    <tr>\n",
       "      <th>0</th>\n",
       "      <td>000001.SH</td>\n",
       "      <td>20200228</td>\n",
       "      <td>2880.3038</td>\n",
       "      <td>2924.6407</td>\n",
       "      <td>2948.1261</td>\n",
       "      <td>2878.5443</td>\n",
       "      <td>2991.3288</td>\n",
       "      <td>-111.0250</td>\n",
       "      <td>-3.7116</td>\n",
       "      <td>401216914.0</td>\n",
       "      <td>432657775.0</td>\n",
       "    </tr>\n",
       "    <tr>\n",
       "      <th>1</th>\n",
       "      <td>000001.SH</td>\n",
       "      <td>20200227</td>\n",
       "      <td>2991.3288</td>\n",
       "      <td>2992.4919</td>\n",
       "      <td>3009.4575</td>\n",
       "      <td>2980.4774</td>\n",
       "      <td>2987.9287</td>\n",
       "      <td>3.4001</td>\n",
       "      <td>0.1138</td>\n",
       "      <td>350523658.0</td>\n",
       "      <td>395955641.5</td>\n",
       "    </tr>\n",
       "    <tr>\n",
       "      <th>2</th>\n",
       "      <td>000001.SH</td>\n",
       "      <td>20200226</td>\n",
       "      <td>2987.9287</td>\n",
       "      <td>2978.4195</td>\n",
       "      <td>3028.7788</td>\n",
       "      <td>2974.9423</td>\n",
       "      <td>3013.0501</td>\n",
       "      <td>-25.1214</td>\n",
       "      <td>-0.8338</td>\n",
       "      <td>469049552.0</td>\n",
       "      <td>495341447.3</td>\n",
       "    </tr>\n",
       "    <tr>\n",
       "      <th>3</th>\n",
       "      <td>000001.SH</td>\n",
       "      <td>20200225</td>\n",
       "      <td>3013.0501</td>\n",
       "      <td>2982.0696</td>\n",
       "      <td>3016.9458</td>\n",
       "      <td>2943.7168</td>\n",
       "      <td>3031.2333</td>\n",
       "      <td>-18.1832</td>\n",
       "      <td>-0.5999</td>\n",
       "      <td>441622762.0</td>\n",
       "      <td>513128644.6</td>\n",
       "    </tr>\n",
       "    <tr>\n",
       "      <th>4</th>\n",
       "      <td>000001.SH</td>\n",
       "      <td>20200224</td>\n",
       "      <td>3031.2333</td>\n",
       "      <td>3027.8925</td>\n",
       "      <td>3042.1821</td>\n",
       "      <td>3007.3557</td>\n",
       "      <td>3039.6692</td>\n",
       "      <td>-8.4359</td>\n",
       "      <td>-0.2775</td>\n",
       "      <td>370430044.0</td>\n",
       "      <td>451601363.1</td>\n",
       "    </tr>\n",
       "  </tbody>\n",
       "</table>\n",
       "</div>"
      ],
      "text/plain": [
       "     ts_code trade_date      close       open       high        low  \\\n",
       "0  000001.SH   20200228  2880.3038  2924.6407  2948.1261  2878.5443   \n",
       "1  000001.SH   20200227  2991.3288  2992.4919  3009.4575  2980.4774   \n",
       "2  000001.SH   20200226  2987.9287  2978.4195  3028.7788  2974.9423   \n",
       "3  000001.SH   20200225  3013.0501  2982.0696  3016.9458  2943.7168   \n",
       "4  000001.SH   20200224  3031.2333  3027.8925  3042.1821  3007.3557   \n",
       "\n",
       "   pre_close    change  pct_chg          vol       amount  \n",
       "0  2991.3288 -111.0250  -3.7116  401216914.0  432657775.0  \n",
       "1  2987.9287    3.4001   0.1138  350523658.0  395955641.5  \n",
       "2  3013.0501  -25.1214  -0.8338  469049552.0  495341447.3  \n",
       "3  3031.2333  -18.1832  -0.5999  441622762.0  513128644.6  \n",
       "4  3039.6692   -8.4359  -0.2775  370430044.0  451601363.1  "
      ]
     },
     "execution_count": 24,
     "metadata": {},
     "output_type": "execute_result"
    }
   ],
   "source": [
    "pro.index_daily(ts_code='000001.SH').head()"
   ]
  },
  {
   "cell_type": "markdown",
   "metadata": {},
   "source": [
    "### 获取股票"
   ]
  },
  {
   "cell_type": "markdown",
   "metadata": {},
   "source": [
    "指定好交易所ID"
   ]
  },
  {
   "cell_type": "code",
   "execution_count": 27,
   "metadata": {},
   "outputs": [
    {
     "data": {
      "text/html": [
       "<div>\n",
       "<style scoped>\n",
       "    .dataframe tbody tr th:only-of-type {\n",
       "        vertical-align: middle;\n",
       "    }\n",
       "\n",
       "    .dataframe tbody tr th {\n",
       "        vertical-align: top;\n",
       "    }\n",
       "\n",
       "    .dataframe thead th {\n",
       "        text-align: right;\n",
       "    }\n",
       "</style>\n",
       "<table border=\"1\" class=\"dataframe\">\n",
       "  <thead>\n",
       "    <tr style=\"text-align: right;\">\n",
       "      <th></th>\n",
       "      <th>ts_code</th>\n",
       "      <th>symbol</th>\n",
       "      <th>name</th>\n",
       "      <th>area</th>\n",
       "      <th>industry</th>\n",
       "      <th>market</th>\n",
       "      <th>list_date</th>\n",
       "    </tr>\n",
       "  </thead>\n",
       "  <tbody>\n",
       "    <tr>\n",
       "      <th>0</th>\n",
       "      <td>000001.SZ</td>\n",
       "      <td>000001</td>\n",
       "      <td>平安银行</td>\n",
       "      <td>深圳</td>\n",
       "      <td>银行</td>\n",
       "      <td>主板</td>\n",
       "      <td>19910403</td>\n",
       "    </tr>\n",
       "    <tr>\n",
       "      <th>1</th>\n",
       "      <td>000002.SZ</td>\n",
       "      <td>000002</td>\n",
       "      <td>万科A</td>\n",
       "      <td>深圳</td>\n",
       "      <td>全国地产</td>\n",
       "      <td>主板</td>\n",
       "      <td>19910129</td>\n",
       "    </tr>\n",
       "    <tr>\n",
       "      <th>2</th>\n",
       "      <td>000004.SZ</td>\n",
       "      <td>000004</td>\n",
       "      <td>国农科技</td>\n",
       "      <td>深圳</td>\n",
       "      <td>生物制药</td>\n",
       "      <td>主板</td>\n",
       "      <td>19910114</td>\n",
       "    </tr>\n",
       "    <tr>\n",
       "      <th>3</th>\n",
       "      <td>000005.SZ</td>\n",
       "      <td>000005</td>\n",
       "      <td>世纪星源</td>\n",
       "      <td>深圳</td>\n",
       "      <td>环境保护</td>\n",
       "      <td>主板</td>\n",
       "      <td>19901210</td>\n",
       "    </tr>\n",
       "    <tr>\n",
       "      <th>4</th>\n",
       "      <td>000006.SZ</td>\n",
       "      <td>000006</td>\n",
       "      <td>深振业A</td>\n",
       "      <td>深圳</td>\n",
       "      <td>区域地产</td>\n",
       "      <td>主板</td>\n",
       "      <td>19920427</td>\n",
       "    </tr>\n",
       "  </tbody>\n",
       "</table>\n",
       "</div>"
      ],
      "text/plain": [
       "     ts_code  symbol  name area industry market list_date\n",
       "0  000001.SZ  000001  平安银行   深圳       银行     主板  19910403\n",
       "1  000002.SZ  000002   万科A   深圳     全国地产     主板  19910129\n",
       "2  000004.SZ  000004  国农科技   深圳     生物制药     主板  19910114\n",
       "3  000005.SZ  000005  世纪星源   深圳     环境保护     主板  19901210\n",
       "4  000006.SZ  000006  深振业A   深圳     区域地产     主板  19920427"
      ]
     },
     "execution_count": 27,
     "metadata": {},
     "output_type": "execute_result"
    }
   ],
   "source": [
    "pro.stock_basic(exchange_id='SSE').head()"
   ]
  },
  {
   "cell_type": "markdown",
   "metadata": {},
   "source": [
    "获取行情数据"
   ]
  },
  {
   "cell_type": "code",
   "execution_count": 32,
   "metadata": {},
   "outputs": [
    {
     "data": {
      "text/html": [
       "<div>\n",
       "<style scoped>\n",
       "    .dataframe tbody tr th:only-of-type {\n",
       "        vertical-align: middle;\n",
       "    }\n",
       "\n",
       "    .dataframe tbody tr th {\n",
       "        vertical-align: top;\n",
       "    }\n",
       "\n",
       "    .dataframe thead th {\n",
       "        text-align: right;\n",
       "    }\n",
       "</style>\n",
       "<table border=\"1\" class=\"dataframe\">\n",
       "  <thead>\n",
       "    <tr style=\"text-align: right;\">\n",
       "      <th></th>\n",
       "      <th>ts_code</th>\n",
       "      <th>trade_date</th>\n",
       "      <th>open</th>\n",
       "      <th>high</th>\n",
       "      <th>low</th>\n",
       "      <th>close</th>\n",
       "      <th>pre_close</th>\n",
       "      <th>change</th>\n",
       "      <th>pct_chg</th>\n",
       "      <th>vol</th>\n",
       "      <th>amount</th>\n",
       "    </tr>\n",
       "  </thead>\n",
       "  <tbody>\n",
       "    <tr>\n",
       "      <th>0</th>\n",
       "      <td>000001.SZ</td>\n",
       "      <td>20200228</td>\n",
       "      <td>14.85</td>\n",
       "      <td>15.04</td>\n",
       "      <td>14.46</td>\n",
       "      <td>14.50</td>\n",
       "      <td>15.11</td>\n",
       "      <td>-0.61</td>\n",
       "      <td>-4.0371</td>\n",
       "      <td>1300644.45</td>\n",
       "      <td>1906892.413</td>\n",
       "    </tr>\n",
       "    <tr>\n",
       "      <th>1</th>\n",
       "      <td>000001.SZ</td>\n",
       "      <td>20200227</td>\n",
       "      <td>14.96</td>\n",
       "      <td>15.15</td>\n",
       "      <td>14.89</td>\n",
       "      <td>15.11</td>\n",
       "      <td>14.99</td>\n",
       "      <td>0.12</td>\n",
       "      <td>0.8005</td>\n",
       "      <td>975270.90</td>\n",
       "      <td>1464605.739</td>\n",
       "    </tr>\n",
       "    <tr>\n",
       "      <th>2</th>\n",
       "      <td>000001.SZ</td>\n",
       "      <td>20200226</td>\n",
       "      <td>14.77</td>\n",
       "      <td>15.27</td>\n",
       "      <td>14.70</td>\n",
       "      <td>14.99</td>\n",
       "      <td>15.04</td>\n",
       "      <td>-0.05</td>\n",
       "      <td>-0.3324</td>\n",
       "      <td>1176599.15</td>\n",
       "      <td>1769612.245</td>\n",
       "    </tr>\n",
       "    <tr>\n",
       "      <th>3</th>\n",
       "      <td>000001.SZ</td>\n",
       "      <td>20200225</td>\n",
       "      <td>15.00</td>\n",
       "      <td>15.13</td>\n",
       "      <td>14.78</td>\n",
       "      <td>15.04</td>\n",
       "      <td>15.23</td>\n",
       "      <td>-0.19</td>\n",
       "      <td>-1.2475</td>\n",
       "      <td>1144575.02</td>\n",
       "      <td>1710369.786</td>\n",
       "    </tr>\n",
       "    <tr>\n",
       "      <th>4</th>\n",
       "      <td>000001.SZ</td>\n",
       "      <td>20200224</td>\n",
       "      <td>15.46</td>\n",
       "      <td>15.46</td>\n",
       "      <td>15.15</td>\n",
       "      <td>15.23</td>\n",
       "      <td>15.58</td>\n",
       "      <td>-0.35</td>\n",
       "      <td>-2.2465</td>\n",
       "      <td>1191794.50</td>\n",
       "      <td>1820183.854</td>\n",
       "    </tr>\n",
       "    <tr>\n",
       "      <th>5</th>\n",
       "      <td>000001.SZ</td>\n",
       "      <td>20200221</td>\n",
       "      <td>15.49</td>\n",
       "      <td>15.72</td>\n",
       "      <td>15.45</td>\n",
       "      <td>15.58</td>\n",
       "      <td>15.59</td>\n",
       "      <td>-0.01</td>\n",
       "      <td>-0.0641</td>\n",
       "      <td>995071.02</td>\n",
       "      <td>1546692.930</td>\n",
       "    </tr>\n",
       "    <tr>\n",
       "      <th>6</th>\n",
       "      <td>000001.SZ</td>\n",
       "      <td>20200220</td>\n",
       "      <td>15.27</td>\n",
       "      <td>15.62</td>\n",
       "      <td>15.10</td>\n",
       "      <td>15.59</td>\n",
       "      <td>15.24</td>\n",
       "      <td>0.35</td>\n",
       "      <td>2.2966</td>\n",
       "      <td>1235444.34</td>\n",
       "      <td>1897923.029</td>\n",
       "    </tr>\n",
       "  </tbody>\n",
       "</table>\n",
       "</div>"
      ],
      "text/plain": [
       "     ts_code trade_date   open   high    low  close  pre_close  change  \\\n",
       "0  000001.SZ   20200228  14.85  15.04  14.46  14.50      15.11   -0.61   \n",
       "1  000001.SZ   20200227  14.96  15.15  14.89  15.11      14.99    0.12   \n",
       "2  000001.SZ   20200226  14.77  15.27  14.70  14.99      15.04   -0.05   \n",
       "3  000001.SZ   20200225  15.00  15.13  14.78  15.04      15.23   -0.19   \n",
       "4  000001.SZ   20200224  15.46  15.46  15.15  15.23      15.58   -0.35   \n",
       "5  000001.SZ   20200221  15.49  15.72  15.45  15.58      15.59   -0.01   \n",
       "6  000001.SZ   20200220  15.27  15.62  15.10  15.59      15.24    0.35   \n",
       "\n",
       "   pct_chg         vol       amount  \n",
       "0  -4.0371  1300644.45  1906892.413  \n",
       "1   0.8005   975270.90  1464605.739  \n",
       "2  -0.3324  1176599.15  1769612.245  \n",
       "3  -1.2475  1144575.02  1710369.786  \n",
       "4  -2.2465  1191794.50  1820183.854  \n",
       "5  -0.0641   995071.02  1546692.930  \n",
       "6   2.2966  1235444.34  1897923.029  "
      ]
     },
     "execution_count": 32,
     "metadata": {},
     "output_type": "execute_result"
    }
   ],
   "source": [
    "df = pro.daily(ts_code='000001.SZ', start_date='20200220', end_date='20200229')\n",
    "df"
   ]
  },
  {
   "cell_type": "code",
   "execution_count": 33,
   "metadata": {
    "collapsed": true
   },
   "outputs": [],
   "source": [
    "df.to_csv('平安银行.csv')"
   ]
  }
 ],
 "metadata": {
  "kernelspec": {
   "display_name": "Python 3",
   "language": "python",
   "name": "python3"
  },
  "language_info": {
   "codemirror_mode": {
    "name": "ipython",
    "version": 3
   },
   "file_extension": ".py",
   "mimetype": "text/x-python",
   "name": "python",
   "nbconvert_exporter": "python",
   "pygments_lexer": "ipython3",
   "version": "3.6.3"
  }
 },
 "nbformat": 4,
 "nbformat_minor": 2
}
