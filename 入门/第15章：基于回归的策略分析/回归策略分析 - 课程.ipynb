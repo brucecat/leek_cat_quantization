{
 "cells": [
  {
   "cell_type": "markdown",
   "metadata": {},
   "source": [
    "### 回归策略分析"
   ]
  },
  {
   "cell_type": "code",
   "execution_count": 1,
   "metadata": {
    "collapsed": true
   },
   "outputs": [],
   "source": [
    "import warnings\n",
    "warnings.filterwarnings(\"ignore\")\n",
    "import numpy as np\n",
    "import pandas as pd\n",
    "import matplotlib.pyplot as plt\n",
    "plt.style.use('seaborn')\n",
    "%matplotlib inline"
   ]
  },
  {
   "cell_type": "markdown",
   "metadata": {},
   "source": [
    "### 数据读取并进行基本处理"
   ]
  },
  {
   "cell_type": "code",
   "execution_count": 2,
   "metadata": {
    "collapsed": true
   },
   "outputs": [],
   "source": [
    "raw = pd.read_csv('data.csv',index_col=0, parse_dates=True).dropna()"
   ]
  },
  {
   "cell_type": "code",
   "execution_count": 3,
   "metadata": {
    "collapsed": true
   },
   "outputs": [],
   "source": [
    "symbol = 'EUR='"
   ]
  },
  {
   "cell_type": "code",
   "execution_count": 4,
   "metadata": {
    "collapsed": true
   },
   "outputs": [],
   "source": [
    "data = pd.DataFrame(raw[symbol])"
   ]
  },
  {
   "cell_type": "code",
   "execution_count": 5,
   "metadata": {
    "collapsed": true
   },
   "outputs": [],
   "source": [
    "data['returns'] = np.log(data / data.shift(1))"
   ]
  },
  {
   "cell_type": "code",
   "execution_count": 6,
   "metadata": {
    "collapsed": true
   },
   "outputs": [],
   "source": [
    "data.dropna(inplace=True)"
   ]
  },
  {
   "cell_type": "code",
   "execution_count": 7,
   "metadata": {
    "collapsed": true
   },
   "outputs": [],
   "source": [
    "data['direction'] = np.sign(data['returns']).astype(int)"
   ]
  },
  {
   "cell_type": "code",
   "execution_count": 8,
   "metadata": {
    "scrolled": true
   },
   "outputs": [
    {
     "data": {
      "text/html": [
       "<div>\n",
       "<style scoped>\n",
       "    .dataframe tbody tr th:only-of-type {\n",
       "        vertical-align: middle;\n",
       "    }\n",
       "\n",
       "    .dataframe tbody tr th {\n",
       "        vertical-align: top;\n",
       "    }\n",
       "\n",
       "    .dataframe thead th {\n",
       "        text-align: right;\n",
       "    }\n",
       "</style>\n",
       "<table border=\"1\" class=\"dataframe\">\n",
       "  <thead>\n",
       "    <tr style=\"text-align: right;\">\n",
       "      <th></th>\n",
       "      <th>EUR=</th>\n",
       "      <th>returns</th>\n",
       "      <th>direction</th>\n",
       "    </tr>\n",
       "    <tr>\n",
       "      <th>Date</th>\n",
       "      <th></th>\n",
       "      <th></th>\n",
       "      <th></th>\n",
       "    </tr>\n",
       "  </thead>\n",
       "  <tbody>\n",
       "    <tr>\n",
       "      <th>2010-01-05</th>\n",
       "      <td>1.4368</td>\n",
       "      <td>-0.002988</td>\n",
       "      <td>-1</td>\n",
       "    </tr>\n",
       "    <tr>\n",
       "      <th>2010-01-06</th>\n",
       "      <td>1.4412</td>\n",
       "      <td>0.003058</td>\n",
       "      <td>1</td>\n",
       "    </tr>\n",
       "    <tr>\n",
       "      <th>2010-01-07</th>\n",
       "      <td>1.4318</td>\n",
       "      <td>-0.006544</td>\n",
       "      <td>-1</td>\n",
       "    </tr>\n",
       "    <tr>\n",
       "      <th>2010-01-08</th>\n",
       "      <td>1.4412</td>\n",
       "      <td>0.006544</td>\n",
       "      <td>1</td>\n",
       "    </tr>\n",
       "    <tr>\n",
       "      <th>2010-01-11</th>\n",
       "      <td>1.4513</td>\n",
       "      <td>0.006984</td>\n",
       "      <td>1</td>\n",
       "    </tr>\n",
       "  </tbody>\n",
       "</table>\n",
       "</div>"
      ],
      "text/plain": [
       "              EUR=   returns  direction\n",
       "Date                                   \n",
       "2010-01-05  1.4368 -0.002988         -1\n",
       "2010-01-06  1.4412  0.003058          1\n",
       "2010-01-07  1.4318 -0.006544         -1\n",
       "2010-01-08  1.4412  0.006544          1\n",
       "2010-01-11  1.4513  0.006984          1"
      ]
     },
     "execution_count": 8,
     "metadata": {},
     "output_type": "execute_result"
    }
   ],
   "source": [
    "data.head()"
   ]
  },
  {
   "cell_type": "code",
   "execution_count": 9,
   "metadata": {},
   "outputs": [
    {
     "data": {
      "image/png": "[encoded data removed]",
      "text/plain": [
       "<Figure size 720x432 with 1 Axes>"
      ]
     },
     "metadata": {},
     "output_type": "display_data"
    }
   ],
   "source": [
    "data['returns'].hist(bins=35, figsize=(10, 6));"
   ]
  },
  {
   "cell_type": "markdown",
   "metadata": {},
   "source": [
    "### 回归特征制作\n",
    "- 1.对于每个样本数据分别计算其前1天报酬率，前2天报酬率指标\n",
    "- 2.画图展示特征结果，并用颜色来区分数值大小"
   ]
  },
  {
   "cell_type": "code",
   "execution_count": 10,
   "metadata": {
    "collapsed": true
   },
   "outputs": [],
   "source": [
    "lags = 2"
   ]
  },
  {
   "cell_type": "code",
   "execution_count": 11,
   "metadata": {
    "collapsed": true
   },
   "outputs": [],
   "source": [
    "def create_lags(data):\n",
    "    global cols\n",
    "    cols = []\n",
    "    for lag in range(1,lags+1):\n",
    "        col = 'lag_{}'.format(lag)\n",
    "        data[col] = data['returns'].shift(lag)\n",
    "        cols.append(col)"
   ]
  },
  {
   "cell_type": "code",
   "execution_count": 12,
   "metadata": {},
   "outputs": [],
   "source": [
    "create_lags(data)"
   ]
  },
  {
   "cell_type": "code",
   "execution_count": 13,
   "metadata": {},
   "outputs": [
    {
     "data": {
      "text/html": [
       "<div>\n",
       "<style scoped>\n",
       "    .dataframe tbody tr th:only-of-type {\n",
       "        vertical-align: middle;\n",
       "    }\n",
       "\n",
       "    .dataframe tbody tr th {\n",
       "        vertical-align: top;\n",
       "    }\n",
       "\n",
       "    .dataframe thead th {\n",
       "        text-align: right;\n",
       "    }\n",
       "</style>\n",
       "<table border=\"1\" class=\"dataframe\">\n",
       "  <thead>\n",
       "    <tr style=\"text-align: right;\">\n",
       "      <th></th>\n",
       "      <th>EUR=</th>\n",
       "      <th>returns</th>\n",
       "      <th>direction</th>\n",
       "      <th>lag_1</th>\n",
       "      <th>lag_2</th>\n",
       "    </tr>\n",
       "    <tr>\n",
       "      <th>Date</th>\n",
       "      <th></th>\n",
       "      <th></th>\n",
       "      <th></th>\n",
       "      <th></th>\n",
       "      <th></th>\n",
       "    </tr>\n",
       "  </thead>\n",
       "  <tbody>\n",
       "    <tr>\n",
       "      <th>2010-01-05</th>\n",
       "      <td>1.4368</td>\n",
       "      <td>-0.002988</td>\n",
       "      <td>-1</td>\n",
       "      <td>NaN</td>\n",
       "      <td>NaN</td>\n",
       "    </tr>\n",
       "    <tr>\n",
       "      <th>2010-01-06</th>\n",
       "      <td>1.4412</td>\n",
       "      <td>0.003058</td>\n",
       "      <td>1</td>\n",
       "      <td>-0.002988</td>\n",
       "      <td>NaN</td>\n",
       "    </tr>\n",
       "    <tr>\n",
       "      <th>2010-01-07</th>\n",
       "      <td>1.4318</td>\n",
       "      <td>-0.006544</td>\n",
       "      <td>-1</td>\n",
       "      <td>0.003058</td>\n",
       "      <td>-0.002988</td>\n",
       "    </tr>\n",
       "    <tr>\n",
       "      <th>2010-01-08</th>\n",
       "      <td>1.4412</td>\n",
       "      <td>0.006544</td>\n",
       "      <td>1</td>\n",
       "      <td>-0.006544</td>\n",
       "      <td>0.003058</td>\n",
       "    </tr>\n",
       "    <tr>\n",
       "      <th>2010-01-11</th>\n",
       "      <td>1.4513</td>\n",
       "      <td>0.006984</td>\n",
       "      <td>1</td>\n",
       "      <td>0.006544</td>\n",
       "      <td>-0.006544</td>\n",
       "    </tr>\n",
       "  </tbody>\n",
       "</table>\n",
       "</div>"
      ],
      "text/plain": [
       "              EUR=   returns  direction     lag_1     lag_2\n",
       "Date                                                       \n",
       "2010-01-05  1.4368 -0.002988         -1       NaN       NaN\n",
       "2010-01-06  1.4412  0.003058          1 -0.002988       NaN\n",
       "2010-01-07  1.4318 -0.006544         -1  0.003058 -0.002988\n",
       "2010-01-08  1.4412  0.006544          1 -0.006544  0.003058\n",
       "2010-01-11  1.4513  0.006984          1  0.006544 -0.006544"
      ]
     },
     "execution_count": 13,
     "metadata": {},
     "output_type": "execute_result"
    }
   ],
   "source": [
    "data.head()"
   ]
  },
  {
   "cell_type": "code",
   "execution_count": 14,
   "metadata": {
    "collapsed": true
   },
   "outputs": [],
   "source": [
    "data.dropna(inplace=True)"
   ]
  },
  {
   "cell_type": "code",
   "execution_count": 15,
   "metadata": {},
   "outputs": [
    {
     "data": {
      "text/plain": [
       "<matplotlib.lines.Line2D at 0x1e77f49df28>"
      ]
     },
     "execution_count": 15,
     "metadata": {},
     "output_type": "execute_result"
    },
    {
     "data": {
      "image/png": "[encoded data removed]",
      "text/plain": [
       "<Figure size 720x432 with 2 Axes>"
      ]
     },
     "metadata": {},
     "output_type": "display_data"
    }
   ],
   "source": [
    "data.plot.scatter(x='lag_1',y='lag_2',c='returns',cmap='coolwarm',figsize=(10,6),colorbar=True)\n",
    "plt.axvline(0,c='r',ls='--')\n",
    "plt.axhline(0,c='r',ls='--')"
   ]
  },
  {
   "cell_type": "markdown",
   "metadata": {},
   "source": [
    "### 使用工具包建立回归方程\n",
    "- 1.训练模型并进行数值预测\n",
    "- 2.指定不同的标签来对比结果\n",
    "- 3.基于预测结果来规划买卖\n",
    "- 4.试试水！"
   ]
  },
  {
   "cell_type": "code",
   "execution_count": 16,
   "metadata": {
    "collapsed": true
   },
   "outputs": [],
   "source": [
    "from sklearn.linear_model import LinearRegression"
   ]
  },
  {
   "cell_type": "code",
   "execution_count": 17,
   "metadata": {
    "collapsed": true
   },
   "outputs": [],
   "source": [
    "model = LinearRegression()"
   ]
  },
  {
   "cell_type": "code",
   "execution_count": 18,
   "metadata": {
    "collapsed": true
   },
   "outputs": [],
   "source": [
    "data['pos_ols_1'] = model.fit(data[cols],data['returns']).predict(data[cols])"
   ]
  },
  {
   "cell_type": "code",
   "execution_count": 19,
   "metadata": {
    "collapsed": true
   },
   "outputs": [],
   "source": [
    "data['pos_ols_2'] = model.fit(data[cols],data['direction']).predict(data[cols])"
   ]
  },
  {
   "cell_type": "code",
   "execution_count": 20,
   "metadata": {},
   "outputs": [
    {
     "data": {
      "text/html": [
       "<div>\n",
       "<style scoped>\n",
       "    .dataframe tbody tr th:only-of-type {\n",
       "        vertical-align: middle;\n",
       "    }\n",
       "\n",
       "    .dataframe tbody tr th {\n",
       "        vertical-align: top;\n",
       "    }\n",
       "\n",
       "    .dataframe thead th {\n",
       "        text-align: right;\n",
       "    }\n",
       "</style>\n",
       "<table border=\"1\" class=\"dataframe\">\n",
       "  <thead>\n",
       "    <tr style=\"text-align: right;\">\n",
       "      <th></th>\n",
       "      <th>EUR=</th>\n",
       "      <th>returns</th>\n",
       "      <th>direction</th>\n",
       "      <th>lag_1</th>\n",
       "      <th>lag_2</th>\n",
       "      <th>pos_ols_1</th>\n",
       "      <th>pos_ols_2</th>\n",
       "    </tr>\n",
       "    <tr>\n",
       "      <th>Date</th>\n",
       "      <th></th>\n",
       "      <th></th>\n",
       "      <th></th>\n",
       "      <th></th>\n",
       "      <th></th>\n",
       "      <th></th>\n",
       "      <th></th>\n",
       "    </tr>\n",
       "  </thead>\n",
       "  <tbody>\n",
       "    <tr>\n",
       "      <th>2010-01-07</th>\n",
       "      <td>1.4318</td>\n",
       "      <td>-0.006544</td>\n",
       "      <td>-1</td>\n",
       "      <td>0.003058</td>\n",
       "      <td>-0.002988</td>\n",
       "      <td>-0.000166</td>\n",
       "      <td>-0.000086</td>\n",
       "    </tr>\n",
       "    <tr>\n",
       "      <th>2010-01-08</th>\n",
       "      <td>1.4412</td>\n",
       "      <td>0.006544</td>\n",
       "      <td>1</td>\n",
       "      <td>-0.006544</td>\n",
       "      <td>0.003058</td>\n",
       "      <td>0.000017</td>\n",
       "      <td>0.040404</td>\n",
       "    </tr>\n",
       "    <tr>\n",
       "      <th>2010-01-11</th>\n",
       "      <td>1.4513</td>\n",
       "      <td>0.006984</td>\n",
       "      <td>1</td>\n",
       "      <td>0.006544</td>\n",
       "      <td>-0.006544</td>\n",
       "      <td>-0.000244</td>\n",
       "      <td>-0.011756</td>\n",
       "    </tr>\n",
       "    <tr>\n",
       "      <th>2010-01-12</th>\n",
       "      <td>1.4494</td>\n",
       "      <td>-0.001310</td>\n",
       "      <td>-1</td>\n",
       "      <td>0.006984</td>\n",
       "      <td>0.006544</td>\n",
       "      <td>-0.000139</td>\n",
       "      <td>-0.043398</td>\n",
       "    </tr>\n",
       "    <tr>\n",
       "      <th>2010-01-13</th>\n",
       "      <td>1.4510</td>\n",
       "      <td>0.001103</td>\n",
       "      <td>1</td>\n",
       "      <td>-0.001310</td>\n",
       "      <td>0.006984</td>\n",
       "      <td>-0.000022</td>\n",
       "      <td>0.002237</td>\n",
       "    </tr>\n",
       "  </tbody>\n",
       "</table>\n",
       "</div>"
      ],
      "text/plain": [
       "              EUR=   returns  direction     lag_1     lag_2  pos_ols_1  \\\n",
       "Date                                                                     \n",
       "2010-01-07  1.4318 -0.006544         -1  0.003058 -0.002988  -0.000166   \n",
       "2010-01-08  1.4412  0.006544          1 -0.006544  0.003058   0.000017   \n",
       "2010-01-11  1.4513  0.006984          1  0.006544 -0.006544  -0.000244   \n",
       "2010-01-12  1.4494 -0.001310         -1  0.006984  0.006544  -0.000139   \n",
       "2010-01-13  1.4510  0.001103          1 -0.001310  0.006984  -0.000022   \n",
       "\n",
       "            pos_ols_2  \n",
       "Date                   \n",
       "2010-01-07  -0.000086  \n",
       "2010-01-08   0.040404  \n",
       "2010-01-11  -0.011756  \n",
       "2010-01-12  -0.043398  \n",
       "2010-01-13   0.002237  "
      ]
     },
     "execution_count": 20,
     "metadata": {},
     "output_type": "execute_result"
    }
   ],
   "source": [
    "data.head()"
   ]
  },
  {
   "cell_type": "code",
   "execution_count": 21,
   "metadata": {
    "collapsed": true
   },
   "outputs": [],
   "source": [
    "data[['pos_ols_1','pos_ols_2']] = np.where(data[['pos_ols_1','pos_ols_2']] > 0,1,-1)"
   ]
  },
  {
   "cell_type": "code",
   "execution_count": 22,
   "metadata": {},
   "outputs": [
    {
     "data": {
      "text/html": [
       "<div>\n",
       "<style scoped>\n",
       "    .dataframe tbody tr th:only-of-type {\n",
       "        vertical-align: middle;\n",
       "    }\n",
       "\n",
       "    .dataframe tbody tr th {\n",
       "        vertical-align: top;\n",
       "    }\n",
       "\n",
       "    .dataframe thead th {\n",
       "        text-align: right;\n",
       "    }\n",
       "</style>\n",
       "<table border=\"1\" class=\"dataframe\">\n",
       "  <thead>\n",
       "    <tr style=\"text-align: right;\">\n",
       "      <th></th>\n",
       "      <th>EUR=</th>\n",
       "      <th>returns</th>\n",
       "      <th>direction</th>\n",
       "      <th>lag_1</th>\n",
       "      <th>lag_2</th>\n",
       "      <th>pos_ols_1</th>\n",
       "      <th>pos_ols_2</th>\n",
       "    </tr>\n",
       "    <tr>\n",
       "      <th>Date</th>\n",
       "      <th></th>\n",
       "      <th></th>\n",
       "      <th></th>\n",
       "      <th></th>\n",
       "      <th></th>\n",
       "      <th></th>\n",
       "      <th></th>\n",
       "    </tr>\n",
       "  </thead>\n",
       "  <tbody>\n",
       "    <tr>\n",
       "      <th>2010-01-07</th>\n",
       "      <td>1.4318</td>\n",
       "      <td>-0.006544</td>\n",
       "      <td>-1</td>\n",
       "      <td>0.003058</td>\n",
       "      <td>-0.002988</td>\n",
       "      <td>-1</td>\n",
       "      <td>-1</td>\n",
       "    </tr>\n",
       "    <tr>\n",
       "      <th>2010-01-08</th>\n",
       "      <td>1.4412</td>\n",
       "      <td>0.006544</td>\n",
       "      <td>1</td>\n",
       "      <td>-0.006544</td>\n",
       "      <td>0.003058</td>\n",
       "      <td>1</td>\n",
       "      <td>1</td>\n",
       "    </tr>\n",
       "    <tr>\n",
       "      <th>2010-01-11</th>\n",
       "      <td>1.4513</td>\n",
       "      <td>0.006984</td>\n",
       "      <td>1</td>\n",
       "      <td>0.006544</td>\n",
       "      <td>-0.006544</td>\n",
       "      <td>-1</td>\n",
       "      <td>-1</td>\n",
       "    </tr>\n",
       "    <tr>\n",
       "      <th>2010-01-12</th>\n",
       "      <td>1.4494</td>\n",
       "      <td>-0.001310</td>\n",
       "      <td>-1</td>\n",
       "      <td>0.006984</td>\n",
       "      <td>0.006544</td>\n",
       "      <td>-1</td>\n",
       "      <td>-1</td>\n",
       "    </tr>\n",
       "    <tr>\n",
       "      <th>2010-01-13</th>\n",
       "      <td>1.4510</td>\n",
       "      <td>0.001103</td>\n",
       "      <td>1</td>\n",
       "      <td>-0.001310</td>\n",
       "      <td>0.006984</td>\n",
       "      <td>-1</td>\n",
       "      <td>1</td>\n",
       "    </tr>\n",
       "  </tbody>\n",
       "</table>\n",
       "</div>"
      ],
      "text/plain": [
       "              EUR=   returns  direction     lag_1     lag_2  pos_ols_1  \\\n",
       "Date                                                                     \n",
       "2010-01-07  1.4318 -0.006544         -1  0.003058 -0.002988         -1   \n",
       "2010-01-08  1.4412  0.006544          1 -0.006544  0.003058          1   \n",
       "2010-01-11  1.4513  0.006984          1  0.006544 -0.006544         -1   \n",
       "2010-01-12  1.4494 -0.001310         -1  0.006984  0.006544         -1   \n",
       "2010-01-13  1.4510  0.001103          1 -0.001310  0.006984         -1   \n",
       "\n",
       "            pos_ols_2  \n",
       "Date                   \n",
       "2010-01-07         -1  \n",
       "2010-01-08          1  \n",
       "2010-01-11         -1  \n",
       "2010-01-12         -1  \n",
       "2010-01-13          1  "
      ]
     },
     "execution_count": 22,
     "metadata": {},
     "output_type": "execute_result"
    }
   ],
   "source": [
    "data.head()"
   ]
  },
  {
   "cell_type": "code",
   "execution_count": 23,
   "metadata": {
    "collapsed": true
   },
   "outputs": [],
   "source": [
    "data['reg_1'] = data['pos_ols_1'] * data['returns']\n",
    "data['reg_2'] = data['pos_ols_2'] * data['returns']"
   ]
  },
  {
   "cell_type": "code",
   "execution_count": 24,
   "metadata": {},
   "outputs": [
    {
     "data": {
      "text/html": [
       "<div>\n",
       "<style scoped>\n",
       "    .dataframe tbody tr th:only-of-type {\n",
       "        vertical-align: middle;\n",
       "    }\n",
       "\n",
       "    .dataframe tbody tr th {\n",
       "        vertical-align: top;\n",
       "    }\n",
       "\n",
       "    .dataframe thead th {\n",
       "        text-align: right;\n",
       "    }\n",
       "</style>\n",
       "<table border=\"1\" class=\"dataframe\">\n",
       "  <thead>\n",
       "    <tr style=\"text-align: right;\">\n",
       "      <th></th>\n",
       "      <th>EUR=</th>\n",
       "      <th>returns</th>\n",
       "      <th>direction</th>\n",
       "      <th>lag_1</th>\n",
       "      <th>lag_2</th>\n",
       "      <th>pos_ols_1</th>\n",
       "      <th>pos_ols_2</th>\n",
       "      <th>reg_1</th>\n",
       "      <th>reg_2</th>\n",
       "    </tr>\n",
       "    <tr>\n",
       "      <th>Date</th>\n",
       "      <th></th>\n",
       "      <th></th>\n",
       "      <th></th>\n",
       "      <th></th>\n",
       "      <th></th>\n",
       "      <th></th>\n",
       "      <th></th>\n",
       "      <th></th>\n",
       "      <th></th>\n",
       "    </tr>\n",
       "  </thead>\n",
       "  <tbody>\n",
       "    <tr>\n",
       "      <th>2010-01-07</th>\n",
       "      <td>1.4318</td>\n",
       "      <td>-0.006544</td>\n",
       "      <td>-1</td>\n",
       "      <td>0.003058</td>\n",
       "      <td>-0.002988</td>\n",
       "      <td>-1</td>\n",
       "      <td>-1</td>\n",
       "      <td>0.006544</td>\n",
       "      <td>0.006544</td>\n",
       "    </tr>\n",
       "    <tr>\n",
       "      <th>2010-01-08</th>\n",
       "      <td>1.4412</td>\n",
       "      <td>0.006544</td>\n",
       "      <td>1</td>\n",
       "      <td>-0.006544</td>\n",
       "      <td>0.003058</td>\n",
       "      <td>1</td>\n",
       "      <td>1</td>\n",
       "      <td>0.006544</td>\n",
       "      <td>0.006544</td>\n",
       "    </tr>\n",
       "    <tr>\n",
       "      <th>2010-01-11</th>\n",
       "      <td>1.4513</td>\n",
       "      <td>0.006984</td>\n",
       "      <td>1</td>\n",
       "      <td>0.006544</td>\n",
       "      <td>-0.006544</td>\n",
       "      <td>-1</td>\n",
       "      <td>-1</td>\n",
       "      <td>-0.006984</td>\n",
       "      <td>-0.006984</td>\n",
       "    </tr>\n",
       "    <tr>\n",
       "      <th>2010-01-12</th>\n",
       "      <td>1.4494</td>\n",
       "      <td>-0.001310</td>\n",
       "      <td>-1</td>\n",
       "      <td>0.006984</td>\n",
       "      <td>0.006544</td>\n",
       "      <td>-1</td>\n",
       "      <td>-1</td>\n",
       "      <td>0.001310</td>\n",
       "      <td>0.001310</td>\n",
       "    </tr>\n",
       "    <tr>\n",
       "      <th>2010-01-13</th>\n",
       "      <td>1.4510</td>\n",
       "      <td>0.001103</td>\n",
       "      <td>1</td>\n",
       "      <td>-0.001310</td>\n",
       "      <td>0.006984</td>\n",
       "      <td>-1</td>\n",
       "      <td>1</td>\n",
       "      <td>-0.001103</td>\n",
       "      <td>0.001103</td>\n",
       "    </tr>\n",
       "  </tbody>\n",
       "</table>\n",
       "</div>"
      ],
      "text/plain": [
       "              EUR=   returns  direction     lag_1     lag_2  pos_ols_1  \\\n",
       "Date                                                                     \n",
       "2010-01-07  1.4318 -0.006544         -1  0.003058 -0.002988         -1   \n",
       "2010-01-08  1.4412  0.006544          1 -0.006544  0.003058          1   \n",
       "2010-01-11  1.4513  0.006984          1  0.006544 -0.006544         -1   \n",
       "2010-01-12  1.4494 -0.001310         -1  0.006984  0.006544         -1   \n",
       "2010-01-13  1.4510  0.001103          1 -0.001310  0.006984         -1   \n",
       "\n",
       "            pos_ols_2     reg_1     reg_2  \n",
       "Date                                       \n",
       "2010-01-07         -1  0.006544  0.006544  \n",
       "2010-01-08          1  0.006544  0.006544  \n",
       "2010-01-11         -1 -0.006984 -0.006984  \n",
       "2010-01-12         -1  0.001310  0.001310  \n",
       "2010-01-13          1 -0.001103  0.001103  "
      ]
     },
     "execution_count": 24,
     "metadata": {},
     "output_type": "execute_result"
    }
   ],
   "source": [
    "data.head()"
   ]
  },
  {
   "cell_type": "code",
   "execution_count": 25,
   "metadata": {},
   "outputs": [
    {
     "data": {
      "text/plain": [
       "returns    0.810644\n",
       "reg_1      0.942422\n",
       "reg_2      1.339286\n",
       "dtype: float64"
      ]
     },
     "execution_count": 25,
     "metadata": {},
     "output_type": "execute_result"
    }
   ],
   "source": [
    "data[['returns','reg_1','reg_2']].sum().apply(np.exp)"
   ]
  },
  {
   "cell_type": "code",
   "execution_count": 28,
   "metadata": {},
   "outputs": [
    {
     "data": {
      "text/plain": [
       "False    1093\n",
       "True     1042\n",
       "dtype: int64"
      ]
     },
     "execution_count": 28,
     "metadata": {},
     "output_type": "execute_result"
    }
   ],
   "source": [
    "(data['direction'] == data['pos_ols_1']).value_counts()"
   ]
  },
  {
   "cell_type": "code",
   "execution_count": 29,
   "metadata": {},
   "outputs": [
    {
     "data": {
      "text/plain": [
       "True     1096\n",
       "False    1039\n",
       "dtype: int64"
      ]
     },
     "execution_count": 29,
     "metadata": {},
     "output_type": "execute_result"
    }
   ],
   "source": [
    "(data['direction'] == data['pos_ols_2']).value_counts()"
   ]
  },
  {
   "cell_type": "code",
   "execution_count": 30,
   "metadata": {},
   "outputs": [
    {
     "data": {
      "text/plain": [
       "<matplotlib.axes._subplots.AxesSubplot at 0x1e701859320>"
      ]
     },
     "execution_count": 30,
     "metadata": {},
     "output_type": "execute_result"
    },
    {
     "data": {
      "image/png": "[encoded data removed]",
      "text/plain": [
       "<Figure size 720x432 with 1 Axes>"
      ]
     },
     "metadata": {},
     "output_type": "display_data"
    }
   ],
   "source": [
    "data[['returns','reg_1','reg_2']].cumsum().apply(np.exp).plot(figsize=(10,6))"
   ]
  },
  {
   "cell_type": "code",
   "execution_count": null,
   "metadata": {
    "collapsed": true
   },
   "outputs": [],
   "source": []
  }
 ],
 "metadata": {
  "anaconda-cloud": {},
  "kernelspec": {
   "display_name": "Python 3",
   "language": "python",
   "name": "python3"
  },
  "language_info": {
   "codemirror_mode": {
    "name": "ipython",
    "version": 3
   },
   "file_extension": ".py",
   "mimetype": "text/x-python",
   "name": "python",
   "nbconvert_exporter": "python",
   "pygments_lexer": "ipython3",
   "version": "3.6.3"
  }
 },
 "nbformat": 4,
 "nbformat_minor": 1
}
